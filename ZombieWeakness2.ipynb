{
  "nbformat": 4,
  "nbformat_minor": 0,
  "metadata": {
    "colab": {
      "name": "ZombieWeakness.ipynb",
      "provenance": []
    },
    "kernelspec": {
      "name": "python3",
      "display_name": "Python 3"
    },
    "language_info": {
      "name": "python"
    }
  },
  "cells": [
    {
      "cell_type": "code",
      "execution_count": null,
      "metadata": {
        "id": "W-S0_SAjloEQ"
      },
      "outputs": [],
      "source": [
        ""
      ]
    },
    {
      "cell_type": "markdown",
      "source": [
        "# **Zombie Weakness.**\n",
        "🧟\n",
        "---\n",
        "\n",
        "This python program uses different skills like lists, if-else conditions and loops; user input functions etc.\n"
      ],
      "metadata": {
        "id": "OwMHXrCUmAdJ"
      }
    },
    {
      "cell_type": "code",
      "source": [
        "# Here we do the role playing interactions\n",
        "weapons = [\"Shotgun\",\"Curling Iron\",\"Baseball Bat\"]\n",
        "zombieWeakness = 0\n",
        "zombieWeakness_str = \"Shotgun\"\n",
        "print(\" Hello survivor! Welcome to Home base! \")\n",
        "print(\" Glad to see you again and ALIVE! \")\n",
        "print(\" \")\n",
        "print(\" But uh oh... A zombie is coming! \")\n",
        "print(\"You should prepare for the fight! \")\n",
        "print(\" \")\n",
        "print(weapons)\n",
        "print(\" \")\n",
        "print(\"Do you want to use one of these? Type 1\")\n",
        "print(\" Or would you like to use your own weapons? Type 2 \")\n",
        "type = input(\"1 or 2: \")\n",
        "# Here is the if else statements htta chose the weapon.\n",
        "if type == \"1\":\n",
        "  finalweapon = int(input(\"Choose weapon 0-2: \"))\n",
        "  #print(weapons[finalweapon])\n",
        "  #print(finalweapon)\n",
        "  if finalweapon == zombieWeakness:\n",
        "    print(\"Congradulations! You WON! \")\n",
        "  else:\n",
        "    print(\"Lost\")\n",
        "elif type ==\"2\":\n",
        "  finalweapon = input(\"Enter a weapon name! \")\n",
        "  weapons.insert(3,finalweapon)  \n",
        "  print(weapons)\n",
        "\n",
        "  finalweapon = int(input(\" Choose weapon 0-4: \"))\n",
        "  print(finalweapon)\n",
        "# Depending on the choise of weapon you either win or lose!\n"
      ],
      "metadata": {
        "colab": {
          "base_uri": "https://localhost:8080/"
        },
        "id": "EdQVmI6fm5Th",
        "outputId": "0bc262d7-4e34-47fa-bd75-0c6d703320b9"
      },
      "execution_count": 2,
      "outputs": [
        {
          "output_type": "stream",
          "name": "stdout",
          "text": [
            " Hello survivor! Welcome to Home base! \n",
            " Glad to see you again and ALIVE! \n",
            " \n",
            " But uh oh... A zombie is coming! \n",
            "You should prepare for the fight! \n",
            " \n",
            "['Shotgun', 'Curling Iron', 'Baseball Bat']\n",
            " \n",
            "Do you want to use one of these? Type 1\n",
            " Or would you like to use your own weapons? Type 2 \n",
            "1 or 2: 1\n",
            "Choose weapon 0-2: 0\n",
            "Congradulations! You WON! \n"
          ]
        }
      ]
    }
  ]
}
