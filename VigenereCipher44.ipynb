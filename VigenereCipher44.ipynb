{
  "nbformat": 4,
  "nbformat_minor": 0,
  "metadata": {
    "colab": {
      "name": "VigenereCipher44.ipynb",
      "provenance": []
    },
    "kernelspec": {
      "name": "python3",
      "display_name": "Python 3"
    },
    "language_info": {
      "name": "python"
    }
  },
  "cells": [
    {
      "cell_type": "code",
      "execution_count": null,
      "metadata": {
        "id": "VbKuTwUeceHi"
      },
      "outputs": [],
      "source": [
        ""
      ]
    },
    {
      "cell_type": "markdown",
      "source": [
        "# Vigenere Cipher\n",
        "# ⌨\n",
        "\n",
        "\n",
        "---\n",
        "\n",
        "This python program uses if else statements and def and return functions and a key."
      ],
      "metadata": {
        "id": "UAXeX6UMcroI"
      }
    },
    {
      "cell_type": "markdown",
      "source": [
        "**This is the generate definition for the key.**"
      ],
      "metadata": {
        "id": "1ko56RjdeQgE"
      }
    },
    {
      "cell_type": "code",
      "source": [
        "alpha = \"ABCDEFGHIJKLMNOPQRSTUVWXYZ\"\n",
        "\n",
        "def generateKey(alpha, key):# does placing and soemthing\n",
        "  key = list(key)#\n",
        "  if len(alpha) == len(key):\n",
        "    return(key)\n",
        "  else:\n",
        "    for i in range(len(alpha) - len(key)):\n",
        "      key.append(key[i % len(key)])\n",
        "  return (\"\".join(key))\n",
        "\n",
        "\n",
        "    "
      ],
      "metadata": {
        "id": "2SB8gthked3D"
      },
      "execution_count": 5,
      "outputs": []
    },
    {
      "cell_type": "markdown",
      "source": [
        "This is the encode definition "
      ],
      "metadata": {
        "id": "fMZYnROveoVp"
      }
    },
    {
      "cell_type": "code",
      "source": [
        "def vig_Encode(text, key):\n",
        "  cipher_text = []\n",
        "  for i in range(len(alpha)):\n",
        "    m_num = alpha.index(text[i])\n",
        "    k_num = alpha.index(key[i % len(key)])\n",
        "    e_num = (m_num + k_num) % 26\n",
        "    cipher_text.append(alpha[e_num])\n",
        "    \n",
        "  return(\"\".join(cipher_text))"
      ],
      "metadata": {
        "id": "oo8MYkgtdvE2"
      },
      "execution_count": 6,
      "outputs": []
    },
    {
      "cell_type": "markdown",
      "source": [
        "This is the decode "
      ],
      "metadata": {
        "id": "TTf5NcDDewnt"
      }
    },
    {
      "cell_type": "code",
      "source": [
        "def vigDecode(vig_encode, key):\n",
        "  vig_decode = []\n",
        "  for i in range(len(vig_encode)):\n",
        "    altalpha = (ord(vig_encode[i]) - ord(key[i]) + 26) % 26\n",
        "    altalpha += ord('A')\n",
        "    vig_decode.append(chr(altalpha))\n",
        "  return (\"\".join(vig_decode))\n",
        "\n",
        "\n"
      ],
      "metadata": {
        "id": "Q6Spr4JedSD0"
      },
      "execution_count": 7,
      "outputs": []
    },
    {
      "cell_type": "markdown",
      "source": [
        "**This is the call functions**"
      ],
      "metadata": {
        "id": "Nc9RTdoBez5X"
      }
    },
    {
      "cell_type": "code",
      "source": [
        "#alpha = \"ABCDEFGHIJKLMNOPQRSTUVWXYZ\"\n",
        "test = \"THEQUICKBROWNFOXJUMPEDOVERTHELAZYDOG\"\n",
        "key = input(\" Input a unique key: \")\n",
        "vig_key = generateKey(alpha, key)\n",
        "vig_key = vig_key.upper()\n",
        "\n",
        "encode = vig_Encode(test,vig_key)\n",
        "decode = vigDecode(encode,vig_key)\n",
        "print(encode)\n",
        "print(decode)\n",
        "# If this worked, dec should be the same as test!"
      ],
      "metadata": {
        "colab": {
          "base_uri": "https://localhost:8080/"
        },
        "id": "AEejcEVcdrpU",
        "outputId": "dc6dac8a-d425-4c8b-d933-0fd1cdeef522"
      },
      "execution_count": 9,
      "outputs": [
        {
          "output_type": "stream",
          "name": "stdout",
          "text": [
            " Input a unique key: Chenoa\n",
            "VOIDIIERFECWPMSKXUOWIQCVGY\n",
            "THEQUICKBROWNFOXJUMPEDOVER\n"
          ]
        }
      ]
    }
  ]
}