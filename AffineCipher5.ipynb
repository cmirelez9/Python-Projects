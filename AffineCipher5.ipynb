{
  "nbformat": 4,
  "nbformat_minor": 0,
  "metadata": {
    "colab": {
      "name": "AffineCipher.ipynb",
      "provenance": []
    },
    "kernelspec": {
      "name": "python3",
      "display_name": "Python 3"
    },
    "language_info": {
      "name": "python"
    }
  },
  "cells": [
    {
      "cell_type": "code",
      "execution_count": null,
      "metadata": {
        "id": "xCvTbt8u1H2v"
      },
      "outputs": [],
      "source": [
        ""
      ]
    },
    {
      "cell_type": "markdown",
      "source": [
        "# Affine Cipher\n",
        "# 🔢\n",
        "\n",
        "\n",
        "---\n",
        "This python program uses modular arithemtic with the 26 letters of the alphabet.\n"
      ],
      "metadata": {
        "id": "C3Y9vQYS1LL0"
      }
    },
    {
      "cell_type": "code",
      "source": [
        "import math\n",
        "\n",
        "# Read the instructions to see what to do!\n",
        "\n",
        "alpha = \"ABCDEFGHIJKLMNOPQRSTUVWXYZ\"\n",
        "\n",
        "# PART 1\n",
        "# These functions are provided for you!\n",
        "def mod_inverse_helper(a, b):\n",
        "    q, r = a//b, a%b\n",
        "    if r == 1:\n",
        "        return (1, -1 * q)\n",
        "    u, v = mod_inverse_helper(b, r)\n",
        "    return (v, -1 * q * v + u)\n",
        "\n",
        "def mod_inverse(a, m):\n",
        "    assert math.gcd(a, m) == 1, \"You're trying to invert \" + str(a) + \" in mod \" + str(m) + \" and that doesn't work!\"\n",
        "    return mod_inverse_helper(m, a)[1] % m\n",
        "\n",
        "\n",
        "# These are the functions you'll need to write:\n",
        "def affine_encode(text, a, b):\n",
        "  enc_list = []\n",
        "  for i in range(len(text)):\n",
        "    inx = alpha.index(text[i])\n",
        "    new_inx = (a*inx+b)%26\n",
        "    enc_list.append(alpha[new_inx])\n",
        "  return \"\".join(enc_list)\n",
        "\n",
        "def affine_decode(text, a, b):\n",
        "  dec_list = []\n",
        "  for i in range(len(text)):\n",
        "    inx = alpha.index(text[i])\n",
        "    rev_inx = ((inx-b)*mod_inverse(a,26))%26\n",
        "    dec_list.append(alpha[rev_inx])\n",
        "  return ''.join(dec_list)\n",
        "\n",
        "test = \"HELLOWORLD\"\n",
        "a = 3\n",
        "b = 9\n",
        "enc = affine_encode(test, a, b)\n",
        "dec = affine_decode(enc, a, b)\n",
        "print(enc)\n",
        "print(dec)\n",
        "# If this worked, dec should be the same as test!\n",
        "\n",
        "\n",
        "\n",
        "# PART 2\n",
        "# These  are the functions you'll need to write:\n",
        "def convert_to_num(word):\n",
        "  f_num = 0\n",
        "  for i in range(len(word)):\n",
        "    k = alpha.index(word[i])\n",
        "    exp = 26**i\n",
        "    f_num += k*exp\n",
        "    # a=+a  =  a=a+b\n",
        "  return f_num \n",
        "\n",
        "def convert_to_text(num, n):\n",
        "  text_list = []\n",
        "  for i in range(n):\n",
        "    f_let = num%26\n",
        "    num = (num//26)\n",
        "    text_list.append(alpha[f_let])\n",
        "  return \"\".join(text_list)\n",
        "\n",
        "test_t = \"THEQUICKBROWNFOXJUMPEDOVERTHELAZYDOG\"\n",
        "l = len(test)\n",
        "num = convert_to_num(test)\n",
        "answer = convert_to_text(num, l)\n",
        "print(\"To num\",num)\n",
        "print(\"To text\", answer)\n",
        "# If this worked, answer should be the same as test!\n",
        "\n",
        "\n",
        "\n",
        "# PART 3\n",
        "\n",
        "# These are the functions you'll need to write:\n",
        "def affine_n_encode(text, n, a, b):\n",
        "  r = len(text)%n\n",
        "  more = n-r\n",
        "  final_text = text + \"X\"* more\n",
        "  encode_list = []\n",
        "  for location in range(0,len(text),n):\n",
        "    ngram=  final_text[location:location+n]\n",
        "    num = convert_to_num(ngram)\n",
        "    af_num = (num*a+b)%(26**n)\n",
        "    af_letter = convert_to_text(af_num,n)\n",
        "    encode_list.append(af_letter)\n",
        "  return ''.join(encode_list)\n",
        "\n",
        "def affine_n_decode(text, n, a, b):\n",
        "  dec_list = []\n",
        "  a_inv = mod_inverse(a,26**n)\n",
        "  print(\"inverse of \", a, \"is: \",a_inv)\n",
        "  for i in range(0,len(text),n):\n",
        "    ngram = text[i:i+n]\n",
        "    num = convert_to_num(ngram)\n",
        "    af_num = ((num-b)*a_inv)%(26**n)\n",
        "    af_letter = convert_to_text(af_num,n)\n",
        "    dec_list.append(af_letter)\n",
        "  return ''.join(dec_list)\n",
        "\n",
        "test = \"THEQUICKBROWNFOXJUMPEDOVERTHELAZYDOG\"\n",
        "n = 5\n",
        "a = 347\n",
        "b = 1721\n",
        "enc = affine_n_encode(test, n, a, b)\n",
        "dec = affine_n_decode(enc, n, a, b)\n",
        "print(enc, dec)\n",
        "# If this worked, dec should be the same as test!"
      ],
      "metadata": {
        "colab": {
          "base_uri": "https://localhost:8080/"
        },
        "id": "jGhRrNpI2G6c",
        "outputId": "40f3a906-861c-4a3f-91e1-40a319613dcd"
      },
      "execution_count": 1,
      "outputs": [
        {
          "output_type": "stream",
          "name": "stdout",
          "text": [
            "EVQQZXZIQS\n",
            "HELLOWORLD\n",
            "To num 18726742329939\n",
            "To text HELLOWORLD\n",
            "inverse of  347 is:  10272083\n",
            "USLTFZITNPBJEWREMCQTPQONLCWPJAFFGWWHPZFG THEQUICKBROWNFOXJUMPEDOVERTHELAZYDOGXXXX\n"
          ]
        }
      ]
    }
  ]
}
