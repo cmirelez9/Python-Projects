{
  "nbformat": 4,
  "nbformat_minor": 0,
  "metadata": {
    "colab": {
      "name": "Untitled0.ipynb",
      "provenance": []
    },
    "kernelspec": {
      "name": "python3",
      "display_name": "Python 3"
    },
    "language_info": {
      "name": "python"
    }
  },
  "cells": [
    {
      "cell_type": "code",
      "execution_count": null,
      "metadata": {
        "id": "AWAOr-I6c1Ln"
      },
      "outputs": [],
      "source": [
        ""
      ]
    },
    {
      "cell_type": "markdown",
      "source": [
        "Hello W0rld ❣\n",
        "*This file prints Hello World.*"
      ],
      "metadata": {
        "id": "UOL7NiXpc6Eo"
      }
    },
    {
      "cell_type": "code",
      "source": [
        "print(\"Hello WOrld\")"
      ],
      "metadata": {
        "colab": {
          "base_uri": "https://localhost:8080/"
        },
        "id": "mUXXsgPQdMza",
        "outputId": "bca60b33-4307-4109-a826-e458bf6585ff"
      },
      "execution_count": 1,
      "outputs": [
        {
          "output_type": "stream",
          "name": "stdout",
          "text": [
            "Hello WOrld\n"
          ]
        }
      ]
    }
  ]
}
