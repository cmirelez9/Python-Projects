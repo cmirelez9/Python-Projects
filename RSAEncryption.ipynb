{
  "nbformat": 4,
  "nbformat_minor": 0,
  "metadata": {
    "colab": {
      "name": "RSAEncryption.ipynb",
      "provenance": []
    },
    "kernelspec": {
      "name": "python3",
      "display_name": "Python 3"
    },
    "language_info": {
      "name": "python"
    }
  },
  "cells": [
    {
      "cell_type": "code",
      "execution_count": null,
      "metadata": {
        "id": "GJdYB6awldZV"
      },
      "outputs": [],
      "source": [
        ""
      ]
    },
    {
      "cell_type": "markdown",
      "source": [
        "# RSA Encryption\n",
        "# 🤴  🔐\n",
        "\n",
        "\n",
        "---\n",
        "\n",
        "This python program uses multiplication in a mod to encode and decode. "
      ],
      "metadata": {
        "id": "K2EufZqulmtc"
      }
    },
    {
      "cell_type": "code",
      "source": [
        "import math\n",
        "\n",
        "# Copy and paste any functions you need from the Affine assignment!\n",
        "alpha = \"ABCDEFGHIJKLMNOPQRSTUVWXYZ\"\n",
        "# Also write these:\n",
        "#convert to number\n",
        "def convert_to_num(word):\n",
        "  f_num = 0\n",
        "  for i in range(len(word)):\n",
        "    k = alpha.index(word[i])\n",
        "    exp = 26**i\n",
        "    f_num += k*exp\n",
        "    # a=+a  =  a=a+b\n",
        "  return f_num \n",
        "#convert to text\n",
        "def convert_to_text(num, n):\n",
        "  text_list = []\n",
        "  for i in range(n):\n",
        "    f_letter = num%26\n",
        "    #print(f_letter)\n",
        "    num = (num//26)\n",
        "    text_list.append(alpha[f_letter])\n",
        "    \n",
        "  return \"\".join(text_list)\n",
        "#inverse functions\n",
        "def mod_inverse_helper(a, b):\n",
        "    q, r = a//b, a%b\n",
        "    if r == 1:\n",
        "        return (1, -1 * q)\n",
        "    u, v = mod_inverse_helper(b, r)\n",
        "    return (v, -1 * q * v + u)\n",
        "\n",
        "def mod_inverse(a, m):\n",
        "    assert math.gcd(a, m) == 1, \"You're trying to invert \" + str(a) + \" in mod \" + str(m) + \" and that doesn't work!\"\n",
        "    return mod_inverse_helper(m, a)[1] % m\n",
        "\n",
        "def rsa_encode(text, m, e):\n",
        "  num = convert_to_num(text)\n",
        "  rsa_number = pow(num,e,m)\n",
        "  return rsa_number\n",
        " \n",
        "def rsa_decode(num, m, d, l):\n",
        "  #t = (p-1)*(q-1)\n",
        "  rsa_num = pow(num,d,m)\n",
        "  word = convert_to_text(rsa_num,l)\n",
        "  return word\n",
        "\n",
        "def get_d(p, q, e):\n",
        "  t = (p-1)*(q-1)\n",
        "  inv = mod_inverse(e, t)\n",
        "  return inv\n",
        "\n",
        "text = \"THEFIVEBOXINGWIZARDSJUMPQUICKLY\"\n",
        "l = len(text)\n",
        "p = 292361466231755597564095925310764764819\n",
        "q = 307125506157764866722739041634199200019\n",
        "e = 65537\n",
        "m = p * q\n",
        "d = get_d(p, q, e)\n",
        "enc = rsa_encode(text, m, e)\n",
        "dec = rsa_decode(enc, m, d, l)\n",
        "print(enc)\n",
        "print(dec)\n",
        "# If this works, dec should be the same as text!\n",
        "\n",
        "\n",
        "\n",
        "\n"
      ],
      "metadata": {
        "colab": {
          "base_uri": "https://localhost:8080/"
        },
        "id": "cEp6QxHQnAOB",
        "outputId": "90d61d0e-39d2-4aef-a9cc-16aba63ea62b"
      },
      "execution_count": 1,
      "outputs": [
        {
          "output_type": "stream",
          "name": "stdout",
          "text": [
            "34028226424022141662679340496616735128390579906964150145035108807466384852365\n",
            "THEFIVEBOXINGWIZARDSJUMPQUICKLY\n"
          ]
        }
      ]
    }
  ]
}