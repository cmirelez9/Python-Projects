{
  "nbformat": 4,
  "nbformat_minor": 0,
  "metadata": {
    "colab": {
      "name": "CeaserShift.ipynb",
      "provenance": []
    },
    "kernelspec": {
      "name": "python3",
      "display_name": "Python 3"
    },
    "language_info": {
      "name": "python"
    }
  },
  "cells": [
    {
      "cell_type": "code",
      "execution_count": null,
      "metadata": {
        "id": "HmF_wYhIp7dR"
      },
      "outputs": [],
      "source": [
        ""
      ]
    },
    {
      "cell_type": "markdown",
      "source": [
        "## **Ceaser Shift**\n",
        "# 🕺\n",
        "\n",
        "\n",
        "---\n",
        "This python program uses def and for conditions to shift the letters in the code. \n"
      ],
      "metadata": {
        "id": "D6DaUF-Yp-pJ"
      }
    },
    {
      "cell_type": "code",
      "source": [
        "alpha = \"ABCDEFGHIJKLMNOPQRSTUVWXYZ\"\n",
        "#can change the n and text you just need a variable fist is text and the econd is the shift number\n",
        "def caesar_encode(text, n):\n",
        "  answer_list = []\n",
        "  for letter in text:# letter is counting in text ex.0 in index text would be t because first\n",
        "    ind = alpha.index(letter)# what is that index of the first letter in alpha\n",
        "    ind = ind + n # adding the shift to the index to the alphabet\n",
        "    ind%=26 # ind=ind%26 ( find the remainder) ex. 4%2 = 2 so 4/2=0 no remainders ex. 5%2= 1 1 remainder\n",
        "    answer_list.append(alpha[ind])\n",
        "    \n",
        "  return \"\".join(answer_list)# keep quotation marks for python, return the strings from the list\n",
        "\n",
        "\n",
        "def caesar_decode(text, n):\n",
        "  decode_list = []\n",
        "  for letter in text:\n",
        "    ind = alpha.index(letter)\n",
        "    ind = ind - n\n",
        "    ind %=26\n",
        "    decode_list.append(alpha[ind])\n",
        "  return \"\".join(decode_list)\n",
        "\n",
        "userinput = input(\"Enter text\")\n",
        "userinput= userinput.upper()\n",
        "\n",
        "test = \"HELLOWORLD\"\n",
        "shift = 1\n",
        "enc = caesar_encode(userinput, shift)\n",
        "dec = caesar_decode(enc, shift)\n",
        "print(enc)\n",
        "print(dec)\n",
        "# If this worked, dec should be the same as test!"
      ],
      "metadata": {
        "colab": {
          "base_uri": "https://localhost:8080/"
        },
        "id": "LvlLXFRQq9Az",
        "outputId": "f8644f75-a820-4820-849f-cbb995c1e4ac"
      },
      "execution_count": 1,
      "outputs": [
        {
          "output_type": "stream",
          "name": "stdout",
          "text": [
            "Enter textChenoa\n",
            "DIFOPB\n",
            "CHENOA\n"
          ]
        }
      ]
    }
  ]
}
